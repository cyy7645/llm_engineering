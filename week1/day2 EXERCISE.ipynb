{
 "cells": [
  {
   "cell_type": "markdown",
   "id": "d15d8294-3328-4e07-ad16-8a03e9bbfdb9",
   "metadata": {},
   "source": [
    "# Welcome to your first assignment!\n",
    "\n",
    "Instructions are below. Please give this a try, and look in the solutions folder if you get stuck (or feel free to ask me!)"
   ]
  },
  {
   "cell_type": "markdown",
   "id": "ada885d9-4d42-4d9b-97f0-74fbbbfe93a9",
   "metadata": {},
   "source": [
    "<table style=\"margin: 0; text-align: left;\">\n",
    "    <tr>\n",
    "        <td style=\"width: 150px; height: 150px; vertical-align: middle;\">\n",
    "            <img src=\"../resources.jpg\" width=\"150\" height=\"150\" style=\"display: block;\" />\n",
    "        </td>\n",
    "        <td>\n",
    "            <h2 style=\"color:#f71;\">Just before we get to the assignment --</h2>\n",
    "            <span style=\"color:#f71;\">I thought I'd take a second to point you at this page of useful resources for the course. This includes links to all the slides.<br/>\n",
    "            <a href=\"https://edwarddonner.com/2024/11/13/llm-engineering-resources/\">https://edwarddonner.com/2024/11/13/llm-engineering-resources/</a><br/>\n",
    "            Please keep this bookmarked, and I'll continue to add more useful links there over time.\n",
    "            </span>\n",
    "        </td>\n",
    "    </tr>\n",
    "</table>"
   ]
  },
  {
   "cell_type": "markdown",
   "id": "6e9fa1fc-eac5-4d1d-9be4-541b3f2b3458",
   "metadata": {},
   "source": [
    "# HOMEWORK EXERCISE ASSIGNMENT\n",
    "\n",
    "Upgrade the day 1 project to summarize a webpage to use an Open Source model running locally via Ollama rather than OpenAI\n",
    "\n",
    "You'll be able to use this technique for all subsequent projects if you'd prefer not to use paid APIs.\n",
    "\n",
    "**Benefits:**\n",
    "1. No API charges - open-source\n",
    "2. Data doesn't leave your box\n",
    "\n",
    "**Disadvantages:**\n",
    "1. Significantly less power than Frontier Model\n",
    "\n",
    "## Recap on installation of Ollama\n",
    "\n",
    "Simply visit [ollama.com](https://ollama.com) and install!\n",
    "\n",
    "Once complete, the ollama server should already be running locally.  \n",
    "If you visit:  \n",
    "[http://localhost:11434/](http://localhost:11434/)\n",
    "\n",
    "You should see the message `Ollama is running`.  \n",
    "\n",
    "If not, bring up a new Terminal (Mac) or Powershell (Windows) and enter `ollama serve`  \n",
    "And in another Terminal (Mac) or Powershell (Windows), enter `ollama pull llama3.2`  \n",
    "Then try [http://localhost:11434/](http://localhost:11434/) again.\n",
    "\n",
    "If Ollama is slow on your machine, try using `llama3.2:1b` as an alternative. Run `ollama pull llama3.2:1b` from a Terminal or Powershell, and change the code below from `MODEL = \"llama3.2\"` to `MODEL = \"llama3.2:1b\"`"
   ]
  },
  {
   "cell_type": "markdown",
   "id": "2daefeaa-d64e-4bb8-a25a-0e42e9c60e33",
   "metadata": {},
   "source": [
    "### Run with local Ollama"
   ]
  },
  {
   "cell_type": "code",
   "execution_count": 30,
   "id": "4e2a9393-7767-488e-a8bf-27c12dca35bd",
   "metadata": {},
   "outputs": [],
   "source": [
    "# imports\n",
    "\n",
    "import requests\n",
    "from bs4 import BeautifulSoup\n",
    "from IPython.display import Markdown, display"
   ]
  },
  {
   "cell_type": "code",
   "execution_count": 31,
   "id": "29ddd15d-a3c5-4f4e-a678-873f56162724",
   "metadata": {},
   "outputs": [],
   "source": [
    "# Constants\n",
    "\n",
    "OLLAMA_API = \"http://localhost:11434/api/chat\"\n",
    "HEADERS = {\"Content-Type\": \"application/json\"}\n",
    "MODEL = \"llama3.2\""
   ]
  },
  {
   "cell_type": "code",
   "execution_count": 32,
   "id": "dac0a679-599c-441f-9bf2-ddc73d35b940",
   "metadata": {},
   "outputs": [],
   "source": [
    "# Create a messages list using the same format that we used for OpenAI\n",
    "\n",
    "messages = [\n",
    "    {\"role\": \"user\", \"content\": \"Describe some of the business applications of Generative AI\"}\n",
    "]"
   ]
  },
  {
   "cell_type": "code",
   "execution_count": 33,
   "id": "7bb9c624-14f0-4945-a719-8ddb64f66f47",
   "metadata": {},
   "outputs": [],
   "source": [
    "payload = {\n",
    "        \"model\": MODEL,\n",
    "        \"messages\": messages,\n",
    "        \"stream\": False\n",
    "    }"
   ]
  },
  {
   "cell_type": "code",
   "execution_count": 34,
   "id": "479ff514-e8bd-4985-a572-2ea28bb4fa40",
   "metadata": {},
   "outputs": [
    {
     "name": "stdout",
     "output_type": "stream",
     "text": [
      "\u001b[?2026h\u001b[?25l\u001b[1Gpulling manifest ⠋ \u001b[K\u001b[?25h\u001b[?2026l\u001b[?2026h\u001b[?25l\u001b[1Gpulling manifest ⠙ \u001b[K\u001b[?25h\u001b[?2026l\u001b[?2026h\u001b[?25l\u001b[1Gpulling manifest ⠹ \u001b[K\u001b[?25h\u001b[?2026l\u001b[?2026h\u001b[?25l\u001b[1Gpulling manifest ⠸ \u001b[K\u001b[?25h\u001b[?2026l\u001b[?2026h\u001b[?25l\u001b[1Gpulling manifest ⠼ \u001b[K\u001b[?25h\u001b[?2026l\u001b[?2026h\u001b[?25l\u001b[1Gpulling manifest ⠴ \u001b[K\u001b[?25h\u001b[?2026l\u001b[?2026h\u001b[?25l\u001b[1Gpulling manifest ⠦ \u001b[K\u001b[?25h\u001b[?2026l\u001b[?2026h\u001b[?25l\u001b[1Gpulling manifest ⠧ \u001b[K\u001b[?25h\u001b[?2026l\u001b[?2026h\u001b[?25l\u001b[1Gpulling manifest ⠇ \u001b[K\u001b[?25h\u001b[?2026l\u001b[?2026h\u001b[?25l\u001b[1Gpulling manifest ⠏ \u001b[K\u001b[?25h\u001b[?2026l\u001b[?2026h\u001b[?25l\u001b[1Gpulling manifest ⠋ \u001b[K\u001b[?25h\u001b[?2026l\u001b[?2026h\u001b[?25l\u001b[1Gpulling manifest ⠙ \u001b[K\u001b[?25h\u001b[?2026l\u001b[?2026h\u001b[?25l\u001b[1Gpulling manifest ⠹ \u001b[K\u001b[?25h\u001b[?2026l\u001b[?2026h\u001b[?25l\u001b[1Gpulling manifest ⠸ \u001b[K\u001b[?25h\u001b[?2026l\u001b[?2026h\u001b[?25l\u001b[1Gpulling manifest ⠼ \u001b[K\u001b[?25h\u001b[?2026l\u001b[?2026h\u001b[?25l\u001b[1Gpulling manifest ⠴ \u001b[K\u001b[?25h\u001b[?2026l\u001b[?2026h\u001b[?25l\u001b[1Gpulling manifest \u001b[K\n",
      "pulling dde5aa3fc5ff: 100% ▕██████████████████▏ 2.0 GB                         \u001b[K\n",
      "pulling 966de95ca8a6: 100% ▕██████████████████▏ 1.4 KB                         \u001b[K\n",
      "pulling fcc5a6bec9da: 100% ▕██████████████████▏ 7.7 KB                         \u001b[K\n",
      "pulling a70ff7e570d9: 100% ▕██████████████████▏ 6.0 KB                         \u001b[K\n",
      "pulling 56bb8bd477a5: 100% ▕██████████████████▏   96 B                         \u001b[K\n",
      "pulling 34bb5ab01051: 100% ▕██████████████████▏  561 B                         \u001b[K\n",
      "verifying sha256 digest \u001b[K\n",
      "writing manifest \u001b[K\n",
      "success \u001b[K\u001b[?25h\u001b[?2026l\n"
     ]
    }
   ],
   "source": [
    "# Let's just make sure the model is loaded\n",
    "\n",
    "!ollama pull llama3.2"
   ]
  },
  {
   "cell_type": "code",
   "execution_count": 10,
   "id": "42b9f644-522d-4e05-a691-56e7658c0ea9",
   "metadata": {},
   "outputs": [
    {
     "name": "stdout",
     "output_type": "stream",
     "text": [
      "Generative AI has numerous business applications across various industries. Here are some examples:\n",
      "\n",
      "1. **Content Generation**: Generative AI can be used to create high-quality content such as articles, blog posts, social media posts, and even entire books. This can help businesses save time and resources on content creation.\n",
      "2. **Image and Video Generation**: Generative AI can generate images and videos that are indistinguishable from those created by humans. This can be used for applications such as e-commerce product visuals, social media marketing, and advertising.\n",
      "3. **Chatbots and Virtual Assistants**: Generative AI can be used to create more sophisticated chatbots and virtual assistants that can understand and respond to user queries in a more human-like manner.\n",
      "4. **Product Design and Development**: Generative AI can be used to design and develop new products, such as 3D models, prototypes, and even entire product lines.\n",
      "5. **Music and Audio Generation**: Generative AI can generate music, sound effects, and other audio content that is indistinguishable from those created by humans. This can be used for applications such as advertising, film scoring, and live events.\n",
      "6. **Predictive Maintenance**: Generative AI can analyze sensor data to predict equipment failures and predict maintenance needs, reducing downtime and increasing efficiency.\n",
      "7. **Customer Service Analytics**: Generative AI can be used to analyze customer service interactions, identify trends, and provide insights on how to improve customer experience.\n",
      "8. **Supply Chain Optimization**: Generative AI can optimize supply chain operations by analyzing historical data, predicting demand, and identifying opportunities for improvement.\n",
      "9. **Marketing Automation**: Generative AI can automate marketing tasks such as email campaigns, social media posting, and lead generation, freeing up resources for more strategic initiatives.\n",
      "10. **Data Analysis and Insights**: Generative AI can analyze large datasets to identify patterns, trends, and insights that would be difficult or impossible for humans to discover on their own.\n",
      "\n",
      "Some specific examples of companies using Generative AI include:\n",
      "\n",
      "* **Dow Jones**: Using generative AI to create news articles\n",
      "* **Google**: Using generative AI to create more realistic animations and special effects in movies\n",
      "* **Amazon**: Using generative AI to generate personalized product recommendations for customers\n",
      "* **Coca-Cola**: Using generative AI to design new packaging designs\n",
      "* **Airbnb**: Using generative AI to analyze user reviews and improve the overall guest experience.\n",
      "\n",
      "These are just a few examples of the many ways that Generative AI is being used in business. As the technology continues to evolve, we can expect to see even more innovative applications across various industries.\n"
     ]
    }
   ],
   "source": [
    "# If this doesn't work for any reason, try the 2 versions in the following cells\n",
    "# And double check the instructions in the 'Recap on installation of Ollama' at the top of this lab\n",
    "# And if none of that works - contact me!\n",
    "\n",
    "response = requests.post(OLLAMA_API, json=payload, headers=HEADERS)\n",
    "print(response.json()['message']['content'])"
   ]
  },
  {
   "cell_type": "markdown",
   "id": "8436bb35-703c-4216-89b4-ab846ab2cec4",
   "metadata": {},
   "source": [
    "### Run with OpenAI"
   ]
  },
  {
   "cell_type": "code",
   "execution_count": 22,
   "id": "2ce0c8fe-9ae2-4d62-aaa6-2ab4d8119653",
   "metadata": {},
   "outputs": [],
   "source": [
    "from openai import OpenAI\n",
    "from dotenv import load_dotenv\n",
    "import os\n",
    "\n",
    "load_dotenv(override=True)\n",
    "api_key = os.getenv('OPENAI_API_KEY')\n",
    "openai = OpenAI()"
   ]
  },
  {
   "cell_type": "code",
   "execution_count": 21,
   "id": "8edef596-156e-49c5-b55e-4f41b8c651ad",
   "metadata": {},
   "outputs": [
    {
     "name": "stdout",
     "output_type": "stream",
     "text": [
      "Generative AI has a wide range of business applications across various industries, leveraging its ability to create content, design, and automate processes. Here are some key applications:\n",
      "\n",
      "1. **Content Creation**: Generative AI tools can produce articles, blog posts, social media content, and marketing materials, significantly reducing the time and effort required for content creation.\n",
      "\n",
      "2. **Design and Prototyping**: In industries like fashion, architecture, and product design, generative AI can generate design concepts, 3D models, and prototypes based on specific parameters, facilitating creativity and innovation.\n",
      "\n",
      "3. **Personalization and Recommendation Systems**: Businesses can use generative AI to enhance customer experiences by creating personalized recommendations in retail, entertainment, and online services. This leads to improved engagement and customer satisfaction.\n",
      "\n",
      "4. **Synthetic Data Generation**: Generative AI can create realistic synthetic datasets for training machine learning models, especially in cases where acquiring real data is challenging due to privacy concerns or data scarcity.\n",
      "\n",
      "5. **Virtual Assistants and Chatbots**: Companies can build advanced chatbots and virtual assistants powered by generative AI, enabling more natural and efficient interactions with customers in customer support and sales.\n",
      "\n",
      "6. **Game Development**: In the gaming industry, generative AI can be used to create game assets, such as characters, environments, and storylines, facilitating faster and more diverse game development.\n",
      "\n",
      "7. **Drug Discovery and Healthcare**: In pharmaceuticals, generative AI can assist in discovering new drugs by generating molecular structures that could lead to effective therapies, thereby accelerating research and reducing costs.\n",
      "\n",
      "8. **Financial Services**: Generative AI can be employed for algorithmic trading, risk assessment, and generating financial reports, helping institutions analyze vast amounts of data and make informed decisions.\n",
      "\n",
      "9. **Advertising and Marketing**: Marketers can use generative AI to create targeted advertisements, optimize ad copies, and design campaigns based on consumer behavior analysis, enhancing marketing effectiveness.\n",
      "\n",
      "10. **Training and Simulation**: Generative AI can create realistic training scenarios and simulations for various industries, including aviation, healthcare, and military, allowing for immersive learning experiences without the risks associated with real-world training.\n",
      "\n",
      "11. **Legal and Contract Drafting**: In the legal domain, generative AI can assist in drafting contracts and analyzing legal documents, streamlining the workflow for legal professionals and reducing errors.\n",
      "\n",
      "12. **Human Resources**: Generative AI can help automate the recruitment process by generating job descriptions, screening resumes, and even conducting preliminary interviews, thus saving time for HR departments.\n",
      "\n",
      "Overall, generative AI is transforming how businesses operate, innovate, and interact with customers, enabling them to become more efficient, creative, and responsive to market demands.\n"
     ]
    }
   ],
   "source": [
    "# print without stream\n",
    "message = \"Describe some of the business applications of Generative AI!\"\n",
    "response = openai.chat.completions.create(\n",
    "    model=\"gpt-4o-mini\", \n",
    "    messages=[{\"role\":\"user\", \"content\":message}]\n",
    ")\n",
    "print(response.choices[0].message.content)"
   ]
  },
  {
   "cell_type": "code",
   "execution_count": 24,
   "id": "9c444c22-609c-4026-84c6-1de6d5766fda",
   "metadata": {},
   "outputs": [
    {
     "name": "stdout",
     "output_type": "stream",
     "text": [
      "Generative AI has numerous applications across various business sectors, transforming processes, enhancing creativity, and driving efficiencies. Here are some key business applications:\n",
      "\n",
      "1. **Content Generation**:\n",
      "   - **Marketing Copy**: Generative AI can create compelling slogans, product descriptions, social media posts, and advertising copy to engage customers and streamline marketing efforts.\n",
      "   - **Blog and Article Writing**: AI can assist in generating informative and relevant articles for blogs, enhancing content marketing strategies.\n",
      "\n",
      "2. **Product Design and Development**:\n",
      "   - **Prototyping**: AI can generate design prototypes for products, helping teams visualize concepts more effectively and speeding up the design process.\n",
      "   - **Customization**: Businesses can use generative AI to offer personalized product designs based on customer preferences or behaviors.\n",
      "\n",
      "3. **Visual Content Creation**:\n",
      "   - **Graphic Design**: AI can generate logos, banners, and social media graphics, assisting in visual branding efforts.\n",
      "   - **Video Production**: Generative AI tools can create animations, edit video content, or produce deepfake technology for creative marketing campaigns.\n",
      "\n",
      "4. **Data Analysis and Insights**:\n",
      "   - **Predictive Analytics**: AI can analyze historical data and generate forecasts related to sales, customer behavior, or market trends, aiding strategic planning.\n",
      "   - **Natural Language Processing**: Businesses can analyze customer feedback, sentiment, and market research data through AI-generated insights.\n",
      "\n",
      "5. **Customer Support and Engagement**:\n",
      "   - **Chatbots and Virtual Assistants**: Generative AI can power advanced customer service chatbots that can understand and respond to queries more naturally and accurately.\n",
      "   - **Personalized Recommendations**: AI can generate product or content recommendations based on individual customer behavior and preferences.\n",
      "\n",
      "6. **Human Resources and Recruitment**:\n",
      "   - **Resume Screening**: AI can analyze resumes and generate a shortlist of suitable candidates based on job descriptions and criteria.\n",
      "   - **Employee Training**: Generative AI can create customized training materials and simulations to enhance employee learning experiences.\n",
      "\n",
      "7. **Financial Services**:\n",
      "   - **Fraud Detection**: AI models can generate patterns of typical transactions and identify anomalies that may indicate fraud.\n",
      "   - **Financial Report Generation**: AI can automate the creation of financial reports, summarizing key performance indicators and insights.\n",
      "\n",
      "8. **Software Development**:\n",
      "   - **Code Generation**: Generative AI can assist developers by generating code snippets, automating repetitive coding tasks, or even providing full software solutions based on specifications.\n",
      "   - **Bug Fixing and Debugging**: AI can analyze code and suggest fixes or improvements, enhancing software quality and reducing time spent on debugging.\n",
      "\n",
      "9. **Healthcare**:\n",
      "   - **Drug Discovery**: Generative models can create molecular structures for potential new drugs, accelerating the discovery process and reducing research time.\n",
      "   - **Medical Imaging**: AI can generate high-quality imaging data or even suggest diagnoses based on medical images.\n",
      "\n",
      "10. **Gaming and Entertainment**:\n",
      "    - **Game Design**: AI can generate characters, environments, and storylines, enabling developers to create more immersive gaming experiences.\n",
      "    - **Music and Art Creation**: Generative algorithms can compose music or create unique art pieces for use in various entertainment contexts.\n",
      "\n",
      "Businesses leveraging generative AI can gain a competitive edge, improve operational efficiency, and enhance customer experience by utilizing these diverse applications."
     ]
    }
   ],
   "source": [
    "# print with stream\n",
    "message = \"Describe some of the business applications of Generative AI!\"\n",
    "stream = openai.chat.completions.create(\n",
    "    model=\"gpt-4o-mini\", \n",
    "    messages=[{\"role\":\"user\", \"content\":message}],\n",
    "    stream = True\n",
    ")\n",
    "# 逐步打印输出\n",
    "for chunk in stream:\n",
    "    if chunk.choices and chunk.choices[0].delta.content:\n",
    "        print(chunk.choices[0].delta.content, end=\"\", flush=True)"
   ]
  },
  {
   "cell_type": "code",
   "execution_count": null,
   "id": "a4deb781-29ac-4c20-a92e-6e7eaeb020da",
   "metadata": {},
   "outputs": [],
   "source": []
  },
  {
   "cell_type": "markdown",
   "id": "6a021f13-d6a1-4b96-8e18-4eae49d876fe",
   "metadata": {},
   "source": [
    "# Introducing the ollama package\n",
    "\n",
    "And now we'll do the same thing, but using the elegant ollama python package instead of a direct HTTP call.\n",
    "\n",
    "Under the hood, it's making the same call as above to the ollama server running at localhost:11434"
   ]
  },
  {
   "cell_type": "code",
   "execution_count": 35,
   "id": "7745b9c4-57dc-4867-9180-61fa5db55eb8",
   "metadata": {},
   "outputs": [
    {
     "name": "stdout",
     "output_type": "stream",
     "text": [
      "Generative AI has numerous business applications across various industries. Here are some examples:\n",
      "\n",
      "1. **Content Generation**: Generative AI can create high-quality content such as articles, social media posts, product descriptions, and even entire books. This can help businesses save time and resources on content creation.\n",
      "2. **Marketing Automation**: Generative AI can be used to generate personalized marketing messages, emails, and advertisements that are tailored to specific customer segments.\n",
      "3. **Product Design**: Generative AI can help design new products by generating 3D models, product prototypes, and even entire product lines.\n",
      "4. **Data Analysis**: Generative AI can analyze large datasets and identify patterns and trends that may not be visible to human analysts.\n",
      "5. **Predictive Maintenance**: Generative AI can predict equipment failures and maintenance needs, helping businesses reduce downtime and increase efficiency.\n",
      "6. **Chatbots**: Generative AI can power chatbots that can engage with customers, answer questions, and provide support.\n",
      "7. **Personalized Recommendations**: Generative AI can generate personalized product recommendations for e-commerce websites, streaming services, and other applications.\n",
      "8. **Speech Synthesis**: Generative AI can create realistic synthetic voices for applications such as voice assistants, podcasts, and audiobooks.\n",
      "9. **Creative Writing**: Generative AI can assist writers with tasks such as writing summaries, creating outlines, and even generating entire scripts.\n",
      "10. **Scientific Research**: Generative AI can help scientists generate new hypotheses, predict complex phenomena, and analyze large datasets.\n",
      "\n",
      "Some specific business applications of Generative AI include:\n",
      "\n",
      "1. **Virtual Assistants**: Companies like Amazon and Google use Generative AI to power their virtual assistants, such as Alexa and Google Assistant.\n",
      "2. **Personalized E-commerce**: Online retailers like Sephora and Neiman Marcus use Generative AI to generate personalized product recommendations for their customers.\n",
      "3. **Financial Modeling**: Banks and financial institutions use Generative AI to analyze large datasets and predict market trends.\n",
      "4. **Healthcare**: Generative AI is being used in healthcare to analyze medical images, predict patient outcomes, and develop new treatments.\n",
      "5. **Supply Chain Optimization**: Companies like Walmart and Amazon use Generative AI to optimize their supply chains and reduce costs.\n",
      "\n",
      "These are just a few examples of the many business applications of Generative AI. As the technology continues to evolve, we can expect to see even more innovative applications in various industries.\n"
     ]
    }
   ],
   "source": [
    "import ollama\n",
    "\n",
    "response = ollama.chat(model=MODEL, messages=messages)\n",
    "print(response['message']['content'])"
   ]
  },
  {
   "cell_type": "markdown",
   "id": "a4704e10-f5fb-4c15-a935-f046c06fb13d",
   "metadata": {},
   "source": [
    "## Alternative approach - using OpenAI python library to connect to Ollama"
   ]
  },
  {
   "cell_type": "code",
   "execution_count": 36,
   "id": "23057e00-b6fc-4678-93a9-6b31cb704bff",
   "metadata": {},
   "outputs": [
    {
     "name": "stdout",
     "output_type": "stream",
     "text": [
      "Generative AI has numerous business applications across various industries, including:\n",
      "\n",
      "1. **Content Generation**: AI-generated content such as text, images, videos, and music can be used to:\n",
      "* Automate content creation for social media platforms, blogs, and websites.\n",
      "* Generate high-quality product descriptions, user manuals, and instructional materials.\n",
      "* Create personalized content for customers based on their preferences and behavior.\n",
      "\n",
      "2. **Design Automation**: Generative AI can:\n",
      "* Design new products, such as furniture, jewelry, or electronics, using computer-aided design (CAD) software.\n",
      "* Generate custom logos, icons, and graphics for businesses.\n",
      "* Create bespoke fashion designs, accessories, and textiles.\n",
      "\n",
      "3. **Data Analysis and Visualization**: Generative AI can help analyze and visualize complex data sets, enabling:\n",
      "* Predictive maintenance and quality control in industries like manufacturing, logistics, and healthcare.\n",
      "* Data-driven marketing campaigns and customer segmentation.\n",
      "* Data visualization for business intelligence and strategic decision-making.\n",
      "\n",
      "4. **Customer Service and Support**: Conversational AI can be used to:\n",
      "* Create chatbots that provide 24/7 support and answers customer queries.\n",
      "* Route complex customer inquiries to human representatives.\n",
      "* Provide personalized advice and recommendations based on customer data and behavior.\n",
      "\n",
      "5. **Creative Collaboration**: Generative AI can facilitate co-creation with humans, leading to:\n",
      "* Joint art projects: combining human creativity with AI-generated ideas and styles.\n",
      "* AI-assisted writing, editing, and proofreading tools for authors, journalists, and content creators.\n",
      "* Collaborative music composition using AI-driven instruments or modules.\n",
      "\n",
      "6. **Image and Audio Editing**: Generative AI-powered editing tools can enhance:\n",
      "* Product photography, allowing for easier product visualization and augmented reality capabilities.\n",
      "* Music production, offering automatic mixing, mastering, and effects processing options.\n",
      "* Image and video post-processing, such as facial recognition and emotional detection analysis.\n",
      "\n",
      "7. **Risk Analysis and Fraud Detection**: Generative AI models can help analyze:\n",
      "* High-risk customers or transactions using machine learning algorithms.\n",
      "* Creditworthy behavior based on historical data and scoring systems.\n",
      "* Predicting potential credit scores and loan losses.\n",
      "\n",
      "8. **Supply Chain Optimization**: Generative AI can aid in supply chain management by:\n",
      "* Predicting demand and inventory requirements based on sales data, customer insights, and seasonal trends.\n",
      "* Optimizing logistics and transportation routes to reduce costs and minimize delivery times.\n",
      "* Identifying potential bottlenecks and supply chain disruptions before they occur.\n",
      "\n",
      "9. **Innovative Products**: Generative AI can help develop new products such as:\n",
      "* Smart home appliances that can be customized for individual needs based on AI-generated designs.\n",
      "* Adaptive software solutions for individuals with unique requirements, using machine learning algorithms to learn user behaviors.\n",
      "* Medical devices designed to address specific patient needs through precise simulations and models.\n",
      "\n",
      "10. **Financial Forecasts and Portfolio Management**: Generative AI models can help:\n",
      "* Analyze complex financial data sets to predict market trends and optimize portfolio diversification.\n",
      "* Assess risk factors when calculating investment returns or dividend forecasting.\n",
      "* Evaluate potential business strategies for investment, including financial projections and revenue growth predictions.\n"
     ]
    }
   ],
   "source": [
    "# There's actually an alternative approach that some people might prefer\n",
    "# You can use the OpenAI client python library to call Ollama:\n",
    "\n",
    "from openai import OpenAI\n",
    "ollama_via_openai = OpenAI(base_url='http://localhost:11434/v1', api_key='ollama')\n",
    "\n",
    "response = ollama_via_openai.chat.completions.create(\n",
    "    model=MODEL,\n",
    "    messages=messages\n",
    ")\n",
    "\n",
    "print(response.choices[0].message.content)"
   ]
  },
  {
   "cell_type": "markdown",
   "id": "9f9e22da-b891-41f6-9ac9-bd0c0a5f4f44",
   "metadata": {},
   "source": [
    "## Are you confused about why that works?\n",
    "\n",
    "It seems strange, right? We just used OpenAI code to call Ollama?? What's going on?!\n",
    "\n",
    "Here's the scoop:\n",
    "\n",
    "The python class `OpenAI` is simply code written by OpenAI engineers that makes calls over the internet to an endpoint.  \n",
    "\n",
    "When you call `openai.chat.completions.create()`, this python code just makes a web request to the following url: \"https://api.openai.com/v1/chat/completions\"\n",
    "\n",
    "Code like this is known as a \"client library\" - it's just wrapper code that runs on your machine to make web requests. The actual power of GPT is running on OpenAI's cloud behind this API, not on your computer!\n",
    "\n",
    "OpenAI was so popular, that lots of other AI providers provided identical web endpoints, so you could use the same approach.\n",
    "\n",
    "So Ollama has an endpoint running on your local box at http://localhost:11434/v1/chat/completions  \n",
    "And in week 2 we'll discover that lots of other providers do this too, including Gemini and DeepSeek.\n",
    "\n",
    "And then the team at OpenAI had a great idea: they can extend their client library so you can specify a different 'base url', and use their library to call any compatible API.\n",
    "\n",
    "That's it!\n",
    "\n",
    "So when you say: `ollama_via_openai = OpenAI(base_url='http://localhost:11434/v1', api_key='ollama')`  \n",
    "Then this will make the same endpoint calls, but to Ollama instead of OpenAI."
   ]
  },
  {
   "cell_type": "markdown",
   "id": "bc7d1de3-e2ac-46ff-a302-3b4ba38c4c90",
   "metadata": {},
   "source": [
    "## Also trying the amazing reasoning model DeepSeek\n",
    "\n",
    "Here we use the version of DeepSeek-reasoner that's been distilled to 1.5B.  \n",
    "This is actually a 1.5B variant of Qwen that has been fine-tuned using synethic data generated by Deepseek R1.\n",
    "\n",
    "Other sizes of DeepSeek are [here](https://ollama.com/library/deepseek-r1) all the way up to the full 671B parameter version, which would use up 404GB of your drive and is far too large for most!"
   ]
  },
  {
   "cell_type": "code",
   "execution_count": 26,
   "id": "cf9eb44e-fe5b-47aa-b719-0bb63669ab3d",
   "metadata": {
    "scrolled": true
   },
   "outputs": [
    {
     "name": "stdout",
     "output_type": "stream",
     "text": [
      "\u001b[?2026h\u001b[?25l\u001b[1Gpulling manifest ⠋ \u001b[K\u001b[?25h\u001b[?2026l\u001b[?2026h\u001b[?25l\u001b[1Gpulling manifest ⠙ \u001b[K\u001b[?25h\u001b[?2026l\u001b[?2026h\u001b[?25l\u001b[1Gpulling manifest ⠹ \u001b[K\u001b[?25h\u001b[?2026l\u001b[?2026h\u001b[?25l\u001b[1Gpulling manifest ⠸ \u001b[K\u001b[?25h\u001b[?2026l\u001b[?2026h\u001b[?25l\u001b[1Gpulling manifest ⠼ \u001b[K\u001b[?25h\u001b[?2026l\u001b[?2026h\u001b[?25l\u001b[1Gpulling manifest ⠴ \u001b[K\u001b[?25h\u001b[?2026l\u001b[?2026h\u001b[?25l\u001b[1Gpulling manifest ⠦ \u001b[K\u001b[?25h\u001b[?2026l\u001b[?2026h\u001b[?25l\u001b[1Gpulling manifest ⠧ \u001b[K\u001b[?25h\u001b[?2026l\u001b[?2026h\u001b[?25l\u001b[1Gpulling manifest ⠇ \u001b[K\u001b[?25h\u001b[?2026l\u001b[?2026h\u001b[?25l\u001b[1Gpulling manifest ⠏ \u001b[K\u001b[?25h\u001b[?2026l\u001b[?2026h\u001b[?25l\u001b[1Gpulling manifest ⠋ \u001b[K\u001b[?25h\u001b[?2026l\u001b[?2026h\u001b[?25l\u001b[1Gpulling manifest ⠙ \u001b[K\u001b[?25h\u001b[?2026l\u001b[?2026h\u001b[?25l\u001b[1Gpulling manifest ⠹ \u001b[K\u001b[?25h\u001b[?2026l\u001b[?2026h\u001b[?25l\u001b[1Gpulling manifest ⠸ \u001b[K\u001b[?25h\u001b[?2026l\u001b[?2026h\u001b[?25l\u001b[1Gpulling manifest ⠼ \u001b[K\u001b[?25h\u001b[?2026l\u001b[?2026h\u001b[?25l\u001b[1Gpulling manifest ⠴ \u001b[K\u001b[?25h\u001b[?2026l\u001b[?2026h\u001b[?25l\u001b[1Gpulling manifest ⠦ \u001b[K\u001b[?25h\u001b[?2026l\u001b[?2026h\u001b[?25l\u001b[1Gpulling manifest ⠧ \u001b[K\u001b[?25h\u001b[?2026l\u001b[?2026h\u001b[?25l\u001b[1Gpulling manifest ⠇ \u001b[K\u001b[?25h\u001b[?2026l\u001b[?2026h\u001b[?25l\u001b[1Gpulling manifest ⠏ \u001b[K\u001b[?25h\u001b[?2026l\u001b[?2026h\u001b[?25l\u001b[1Gpulling manifest ⠋ \u001b[K\u001b[?25h\u001b[?2026l\u001b[?2026h\u001b[?25l\u001b[1Gpulling manifest ⠙ \u001b[K\u001b[?25h\u001b[?2026l\u001b[?2026h\u001b[?25l\u001b[1Gpulling manifest ⠹ \u001b[K\u001b[?25h\u001b[?2026l\u001b[?2026h\u001b[?25l\u001b[1Gpulling manifest ⠸ \u001b[K\u001b[?25h\u001b[?2026l\u001b[?2026h\u001b[?25l\u001b[1Gpulling manifest ⠼ \u001b[K\u001b[?25h\u001b[?2026l\u001b[?2026h\u001b[?25l\u001b[1Gpulling manifest ⠴ \u001b[K\u001b[?25h\u001b[?2026l\u001b[?2026h\u001b[?25l\u001b[1Gpulling manifest ⠦ \u001b[K\u001b[?25h\u001b[?2026l\u001b[?2026h\u001b[?25l\u001b[1Gpulling manifest ⠧ \u001b[K\u001b[?25h\u001b[?2026l\u001b[?2026h\u001b[?25l\u001b[1Gpulling manifest ⠇ \u001b[K\u001b[?25h\u001b[?2026l\u001b[?2026h\u001b[?25l\u001b[1Gpulling manifest ⠏ \u001b[K\u001b[?25h\u001b[?2026l\u001b[?2026h\u001b[?25l\u001b[1Gpulling manifest ⠋ \u001b[K\u001b[?25h\u001b[?2026l\u001b[?2026h\u001b[?25l\u001b[1Gpulling manifest \u001b[K\n",
      "pulling aabd4debf0c8: 100% ▕██████████████████▏ 1.1 GB                         \u001b[K\n",
      "pulling c5ad996bda6e: 100% ▕██████████████████▏  556 B                         \u001b[K\n",
      "pulling 6e4c38e1172f: 100% ▕██████████████████▏ 1.1 KB                         \u001b[K\n",
      "pulling f4d24e9138dd: 100% ▕██████████████████▏  148 B                         \u001b[K\n",
      "pulling a85fe2a2e58e: 100% ▕██████████████████▏  487 B                         \u001b[K\n",
      "verifying sha256 digest \u001b[K\n",
      "writing manifest \u001b[K\n",
      "success \u001b[K\u001b[?25h\u001b[?2026l\n"
     ]
    }
   ],
   "source": [
    "!ollama pull deepseek-r1:1.5b"
   ]
  },
  {
   "cell_type": "code",
   "execution_count": 37,
   "id": "1d3d554b-e00d-4c08-9300-45e073950a76",
   "metadata": {},
   "outputs": [
    {
     "name": "stdout",
     "output_type": "stream",
     "text": [
      "<think>\n",
      "Okay, so I need to figure out the core concepts behind language models, specifically focusing on how neural networks, attention mechanisms, and transformers work. Hmm, where do I even start?\n",
      "\n",
      "First, let me think about what a language model is all about. From what I know, a language model is designed to understand and generate human-level text. They predict the next word or sentence based on the previous ones. That makes sense because it's how we interact with computers—typing a conversation where each other keeps making sounds as per our words.\n",
      "\n",
      "Now, neural networks. I remember that early in my computer science classes, they mentioned something called \"neural networks.\" Wait, aren't those like graphs of neurons connected together? Each node is a neuron, and they process information through weighted connections. But how does this relate to language models?\n",
      "\n",
      "Oh right, in deep learning, we use neural networks with layers to process data more effectively. For NLP tasks, the model needs to handle text which isn't inherently numbers or structures. So perhaps the early neural network layers are doing some processing that helps the model understand word contexts and sequences.\n",
      "\n",
      "Attention mechanisms sound complicated but maybe I can break it down. It must be about focusing on specific parts of the input when making a prediction. Like, if I want to predict the translation of \"I like bananas,\" my head should focus more on \"banana\" than \"apple.\" That makes sense because real humans do that too.\n",
      "\n",
      "Then there's the transformer architecture. Transformers were a big thing in NLP due to something called self-attention and positional encoding. Self-attention is interesting because each model cell sees its own sequence, like how each person only knows what they heard or seen before. That could help models understand long-range dependencies, which I remember is useful for tasks that span multiple sentences.\n",
      "\n",
      "Putting it all together: neural networks form the basic structure to process text. Attention mechanisms let the model focus on relevant parts of a sentence. Transformers use self-attention and positional encoding, allowing each part of the model to learn from its own context without needing pre-existing structures.\n",
      "\n",
      "Wait, are there any other key aspects? Maybe I should think about how these components work together. Like, during training, does the neural network encode input patterns using embeddings? Then attention decides which parts get processed first based on context. Transformers' self-attention allows each layer to attend to all positions in the sequence at once.\n",
      "\n",
      "Also, I recall something about parameter efficiency and computational costs. How efficient are these models? I know some large transformers have millions of parameters but can still work quickly because of their sparse weights or other tricks like adding dropout for regularization.\n",
      "\n",
      "So, breaking it down: NLP starts with text being transformed into embedding vectors using the model's own learning. Then neural networks handle processing through layers. Attention modules let the model focus on important parts based on context. Transformers enhance this by utilizing self-attention without fixed attention heads or mechanisms.\n",
      "\n",
      "I think that covers main points. Maybe I'm missing something about the sequence handling? Like, each transformer layer processes a sequential input in parallel because ofMasked Attention, but no—I don't think multi-heads come here. Or perhaps it's more about how Transformers handle context across sequences on their own.\n",
      "\n",
      "To sum up: Neural networks provide the basic structure and learn representations from data. Attention allows models to focus on relevant inputs when making predictions. Transformers do this in a way that considers each part of the sequence by itself, allowing for efficient modeling without needing global context shifts.\n",
      "</think>\n",
      "\n",
      "A language model is designed to process and generate human-level text, enabling interaction through sound and visuals. It relies heavily on neural networks, attention mechanisms, and transformers to handle text effectively.\n",
      "\n",
      "1. **Neural Networks**: These are computational graphs of neurons connected by weighted connections, used in various tasks like computer vision and speech recognition. In NLP, neural networks process text sequentially due to their internal representations from embeddings, enabling prediction based on previous inputs.\n",
      "\n",
      "2. **Attention Mechanisms**: These mechanisms allow models to focus on specific parts of input data when making predictions. For example, predicting the translation of \"I like bananas\" focuses more on \"banana.\" This dynamic selection enhances understanding and context handling.\n",
      "\n",
      "3. **Transformers Architecture**: Introduced for efficiency, transformers use self-attention and positional encoding. Self-attention enables each model (cell) to process its own sequence without pre-fixed structures, focusing only on relevant parts. This self-directed learning is crucial for capturing long-range dependencies efficiently.\n",
      "\n",
      "These components work together: embedding inputs with the model's learning, processing through neural networks, selecting focus areas with attention, and enabling accurate predictions while maintaining computational efficiency. Transformers in particular excel by handling complexity independently at each layer.\n"
     ]
    }
   ],
   "source": [
    "# This may take a few minutes to run! You should then see a fascinating \"thinking\" trace inside <think> tags, followed by some decent definitions\n",
    "\n",
    "response = ollama_via_openai.chat.completions.create(\n",
    "    model=\"deepseek-r1:1.5b\",\n",
    "    messages=[{\"role\": \"user\", \"content\": \"Please give definitions of some core concepts behind LLMs: a neural network, attention and the transformer\"}]\n",
    ")\n",
    "\n",
    "print(response.choices[0].message.content)"
   ]
  },
  {
   "cell_type": "markdown",
   "id": "1622d9bb-5c68-4d4e-9ca4-b492c751f898",
   "metadata": {},
   "source": [
    "# NOW the exercise for you\n",
    "\n",
    "Take the code from day1 and incorporate it here, to build a website summarizer that uses Llama 3.2 running locally instead of OpenAI; use either of the above approaches."
   ]
  },
  {
   "cell_type": "code",
   "execution_count": null,
   "id": "6de38216-6d1c-48c4-877b-86d403f4e0f8",
   "metadata": {},
   "outputs": [],
   "source": []
  }
 ],
 "metadata": {
  "kernelspec": {
   "display_name": "Python 3 (ipykernel)",
   "language": "python",
   "name": "python3"
  },
  "language_info": {
   "codemirror_mode": {
    "name": "ipython",
    "version": 3
   },
   "file_extension": ".py",
   "mimetype": "text/x-python",
   "name": "python",
   "nbconvert_exporter": "python",
   "pygments_lexer": "ipython3",
   "version": "3.11.13"
  }
 },
 "nbformat": 4,
 "nbformat_minor": 5
}
