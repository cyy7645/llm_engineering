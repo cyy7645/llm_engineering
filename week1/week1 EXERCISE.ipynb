{
 "cells": [
  {
   "cell_type": "markdown",
   "id": "fe12c203-e6a6-452c-a655-afb8a03a4ff5",
   "metadata": {},
   "source": [
    "# End of week 1 exercise\n",
    "\n",
    "To demonstrate your familiarity with OpenAI API, and also Ollama, build a tool that takes a technical question,  \n",
    "and responds with an explanation. This is a tool that you will be able to use yourself during the course!"
   ]
  },
  {
   "cell_type": "code",
   "execution_count": 12,
   "id": "c1070317-3ed9-4659-abe3-828943230e03",
   "metadata": {},
   "outputs": [],
   "source": [
    "# imports\n",
    "\n",
    "import requests\n",
    "\n",
    "from openai import OpenAI\n",
    "from dotenv import load_dotenv\n",
    "import os\n",
    "import json"
   ]
  },
  {
   "cell_type": "code",
   "execution_count": 7,
   "id": "4a456906-915a-4bfd-bb9d-57e505c5093f",
   "metadata": {},
   "outputs": [],
   "source": [
    "# constants\n",
    "\n",
    "MODEL_GPT = 'gpt-4o-mini'\n",
    "MODEL_LLAMA = 'llama3.2'\n",
    "OLLAMA_API = \"http://localhost:11434/api/chat\"\n",
    "HEADERS = {\"Content-Type\": \"application/json\"}"
   ]
  },
  {
   "cell_type": "code",
   "execution_count": 4,
   "id": "a8d7923c-5f28-4c30-8556-342d7c8497c1",
   "metadata": {},
   "outputs": [],
   "source": [
    "# set up environment\n",
    "load_dotenv(override=True)\n",
    "api_key = os.getenv('OPENAI_API_KEY')\n",
    "openai = OpenAI()"
   ]
  },
  {
   "cell_type": "code",
   "execution_count": 5,
   "id": "3f0d0137-52b0-47a8-81a8-11a90a010798",
   "metadata": {},
   "outputs": [],
   "source": [
    "# here is the question; type over this to ask something new\n",
    "\n",
    "question = \"\"\"\n",
    "Please explain what this code does and why:\n",
    "yield from {book.get(\"author\") for book in books if book.get(\"author\")}\n",
    "\"\"\"\n",
    "\n"
   ]
  },
  {
   "cell_type": "code",
   "execution_count": 6,
   "id": "60ce7000-a4a5-4cce-a261-e75ef45063b4",
   "metadata": {},
   "outputs": [
    {
     "name": "stdout",
     "output_type": "stream",
     "text": [
      "The code you provided is using a Python generator expression along with the `yield from` statement. Let's break it down step by step:\n",
      "\n",
      "### Explanation of Components\n",
      "\n",
      "1. **`{book.get(\"author\") for book in books if book.get(\"author\")}`**:\n",
      "   - This part is a **set comprehension** that creates a set of authors.\n",
      "   - `books` is expected to be an iterable (like a list or a dictionary) where each item is expected to be a dictionary that may contain an `author` key.\n",
      "   - `book.get(\"author\")` retrieves the value of the `author` key from each `book` dictionary. If the key does not exist, it returns `None`.\n",
      "   - The condition `if book.get(\"author\")` ensures that only the values that are truthy (i.e., not `None` or empty) are included in the resulting set.\n",
      "   - The result is a set of unique author names from the `books` collection.\n",
      "\n",
      "2. **`yield from`**:\n",
      "   - The `yield from` syntax is used in a generator. It will yield all values from an iterable, effectively flattening the generator output.\n",
      "   - In this context, `yield from` takes the set of authors created by the set comprehension above and yields each author one by one, allowing you to iterate over them as if they were generated in a typical generator.\n",
      "\n",
      "### Overall Purpose of the Code\n",
      "\n",
      "The entire line of code can be understood as a generator that yields unique authors from a collection of book entries. Here's a concise summary of its purpose:\n",
      "\n",
      "- **Purpose**: To produce a generator that yields each unique author listed in a set of books, excluding any entries where the `author` key is missing or has a falsy value.\n",
      "\n",
      "### Example Usage\n",
      "\n",
      "Imagine you have a list of books structured like this:\n",
      "\n",
      "```python\n",
      "books = [\n",
      "    {\"title\": \"Book 1\", \"author\": \"Author A\"},\n",
      "    {\"title\": \"Book 2\", \"author\": \"Author B\"},\n",
      "    {\"title\": \"Book 3\", \"author\": \"Author A\"},\n",
      "    {\"title\": \"Book 4\"},\n",
      "    {\"title\": \"Book 5\", \"author\": \"\"}\n",
      "]\n",
      "```\n",
      "\n",
      "If this line of code were put inside a generator function, calling that generator would yield:\n",
      "\n",
      "```\n",
      "Author A\n",
      "Author B\n",
      "```\n",
      "\n",
      "It would exclude any entries for `Book 4` (no author) and `Book 5` (empty author value).\n",
      "\n",
      "### Why Use This Approach?\n",
      "\n",
      "1. **Set Comprehension**: This ensures that authors are unique without additional checks for duplicates.\n",
      "2. **Generator**: Using `yield from` creates an efficient way to produce results one at a time, which can be particularly useful for large datasets where you may not want to load everything into memory at once."
     ]
    }
   ],
   "source": [
    "# Get gpt-4o-mini to answer, with streaming\n",
    "\n",
    "# print with stream\n",
    "stream = openai.chat.completions.create(\n",
    "    model=MODEL_GPT, \n",
    "    messages=[{\"role\":\"user\", \"content\":question}],\n",
    "    stream = True\n",
    ")\n",
    "# 逐步打印输出\n",
    "for chunk in stream:\n",
    "    if chunk.choices and chunk.choices[0].delta.content:\n",
    "        print(chunk.choices[0].delta.content, end=\"\", flush=True)"
   ]
  },
  {
   "cell_type": "code",
   "execution_count": 13,
   "id": "8f7c8ea8-4082-4ad0-8751-3301adcf6538",
   "metadata": {},
   "outputs": [
    {
     "name": "stdout",
     "output_type": "stream",
     "text": [
      "**Code Explanation**\n",
      "\n",
      "The given code is a Python snippet that uses the `yield from` syntax to generate an iterator. It's used to iterate over specific data within a list of dictionaries.\n",
      "\n",
      "Here's a breakdown:\n",
      "\n",
      "- `yield from`: This is a Python 3.3+ feature that allows you to delegate iteration to another iterable, in this case, a generator expression.\n",
      "- `{book.get(\"author\") for book in books if book.get(\"author\")}`: This is the underlying generator expression. It does the following:\n",
      "  - `for book in books`: Iterates over each dictionary (`book`) in the `books` list.\n",
      "  - `if book.get(\"author\")`: Filters out any dictionaries that don't contain an `\"author\"` key (assuming a dictionary with this format).\n",
      "  - `book.get(\"author\")`: Extracts and yields the value of the `\"author\"` key for each dictionary that passes the filter.\n",
      "\n",
      "**Why it's used**\n",
      "\n",
      "In many data processing pipelines, you might have a large list of dictionaries, where some dictionaries may be missing certain keys. In such cases, using `yield from` allows you to generate an iterator that only includes the relevant data (in this case, authors) while skipping the ones without the `\"author\"` key.\n",
      "\n",
      "Here's an example use case:\n",
      "\n",
      "```python\n",
      "# List of books with author names\n",
      "books = [\n",
      "    {\"title\": \"Book 1\", \"author\": \"Author 1\"},\n",
      "    {\"title\": \"Book 2\", \"author\": \"Author 2\"},\n",
      "    {\"title\": \"Book 3\", \"publisher\": \"Publisher 1\"}\n",
      "]\n",
      "\n",
      "authors = yield from {book.get(\"author\") for book in books if book.get(\"author\")}\n",
      "\n",
      "# Print the authors\n",
      "for author in authors:\n",
      "    print(author)\n",
      "```\n",
      "\n",
      "In this example, only dictionaries with an `\"author\"` key are processed, and their values are yielded as a generator. The `yield from` syntax makes it easy to write concise code that still handles edge cases like missing keys.\n",
      "\n",
      "**Alternative approaches**\n",
      "\n",
      "If you don't need to use `yield from`, you can achieve the same result using the `filter()` function in combination with a lambda function:\n",
      "\n",
      "```python\n",
      "books = [\n",
      "    {\"title\": \"Book 1\", \"author\": \"Author 1\"},\n",
      "    {\"title\": \"Book 2\", \"author\": \"Author 2\"},\n",
      "    {\"title\": \"Book 3\", \"publisher\": \"Publisher 1\"}\n",
      "]\n",
      "\n",
      "authors = list(filter(lambda book: \"author\" in book, books))\n",
      "\n",
      "# Print the authors\n",
      "for author in authors:\n",
      "    print(author[\"author\"])\n",
      "```\n",
      "\n",
      "However, using `yield from` is generally more Pythonic and efficient when dealing with large datasets or iterators."
     ]
    }
   ],
   "source": [
    "# Get Llama 3.2 to answer\n",
    "message = {\"role\":\"user\", \"content\":question}\n",
    "payload = {\n",
    "        \"model\": MODEL_LLAMA,\n",
    "        \"messages\": [message],\n",
    "        \"stream\": True\n",
    "    }\n",
    "response = requests.post(OLLAMA_API, json=payload, headers=HEADERS, stream=True)\n",
    "# print(response.json()['message']['content'])\n",
    "for line in response.iter_lines():\n",
    "    if line:\n",
    "        # response.iter_lines() 返回的是字节串（bytes）\n",
    "        data = json.loads(line.decode(\"utf-8\"))\n",
    "        if \"message\" in data and \"content\" in data[\"message\"]:\n",
    "            print(data[\"message\"][\"content\"], end=\"\", flush=True)"
   ]
  },
  {
   "cell_type": "code",
   "execution_count": null,
   "id": "4020316d-a28d-4762-b283-4cd3d39f36b3",
   "metadata": {},
   "outputs": [],
   "source": []
  }
 ],
 "metadata": {
  "kernelspec": {
   "display_name": "Python 3 (ipykernel)",
   "language": "python",
   "name": "python3"
  },
  "language_info": {
   "codemirror_mode": {
    "name": "ipython",
    "version": 3
   },
   "file_extension": ".py",
   "mimetype": "text/x-python",
   "name": "python",
   "nbconvert_exporter": "python",
   "pygments_lexer": "ipython3",
   "version": "3.11.13"
  }
 },
 "nbformat": 4,
 "nbformat_minor": 5
}
